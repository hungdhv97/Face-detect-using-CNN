{
 "cells": [
  {
   "cell_type": "code",
   "execution_count": null,
   "metadata": {},
   "outputs": [],
   "source": [
    "import cv2 \n",
    "from mtcnn.mtcnn import MTCNN\n",
    "\n",
    "img_counter = 0\n",
    "\n",
    "detector = MTCNN()\n",
    "video_capture = cv2.VideoCapture(0)\n",
    "\n",
    "while True: \n",
    "    #Capture frame-by-frame\n",
    "    ret, frame = video_capture.read()\n",
    "    k = cv2.waitKey(1)\n",
    "    \n",
    "    #Use MTCNN to detect faces\n",
    "    result = detector.detect_faces(frame)\n",
    "    if result != []:\n",
    "        for person in result:\n",
    "            bounding_box = person['box']\n",
    "            keypoints = person['keypoints']\n",
    "            \n",
    "            cv2.rectangle(frame,\n",
    "                          (bounding_box[0], bounding_box[1]),\n",
    "                          (bounding_box[0] + bounding_box[2], bounding_box[1] + bounding_box[3]),\n",
    "                          (0,155,255),\n",
    "                          2)\n",
    "    \n",
    "            cv2.circle(frame,(keypoints['left_eye']), 2, (0,155,255), 2)\n",
    "            cv2.circle(frame,(keypoints['right_eye']), 2, (0,155,255), 2)\n",
    "            cv2.circle(frame,(keypoints['nose']), 2, (0,155,255), 2)\n",
    "            cv2.circle(frame,(keypoints['mouth_left']), 2, (0,155,255), 2)\n",
    "            cv2.circle(frame,(keypoints['mouth_right']), 2, (0,155,255), 2)\n",
    "            text = '#MTCNN'\n",
    "            y = bounding_box[1] - 10 if bounding_box[1] - 10 > 10 else bounding_box[1] + 10\n",
    "            cv2.putText(frame, text, (bounding_box[0], y), cv2.FONT_HERSHEY_SIMPLEX, 0.5, (0, 155, 255), 1)\n",
    "            \n",
    "    \n",
    "    #display resulting frame\n",
    "    cv2.imshow('frame',frame)\n",
    "    #ESC Pressed\n",
    "    if k%256 == 27: \n",
    "        break\n",
    "    #SPACE pressed\n",
    "    elif k%256 == 32:       \n",
    "        img_name = \"Image/facedetect_webcam_{}.png\".format(img_counter)\n",
    "        cv2.imwrite(img_name, frame)\n",
    "        print(\"{} written!\".format(img_name))\n",
    "        img_counter += 1\n",
    "\n",
    "#When everything's done, release capture\n",
    "video_capture.release()\n",
    "cv2.destroyAllWindows()"
   ]
  }
 ],
 "metadata": {
  "kernelspec": {
   "display_name": "Python 3",
   "language": "python",
   "name": "python3"
  },
  "language_info": {
   "codemirror_mode": {
    "name": "ipython",
    "version": 3
   },
   "file_extension": ".py",
   "mimetype": "text/x-python",
   "name": "python",
   "nbconvert_exporter": "python",
   "pygments_lexer": "ipython3",
   "version": "3.7.3"
  }
 },
 "nbformat": 4,
 "nbformat_minor": 2
}
