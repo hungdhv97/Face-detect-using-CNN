{
 "cells": [
  {
   "cell_type": "code",
   "execution_count": 2,
   "metadata": {},
   "outputs": [
    {
     "name": "stderr",
     "output_type": "stream",
     "text": [
      "Using TensorFlow backend.\n"
     ]
    }
   ],
   "source": [
    "import cv2 \n",
    "from mtcnn.mtcnn import MTCNN"
   ]
  },
  {
   "cell_type": "code",
   "execution_count": 3,
   "metadata": {},
   "outputs": [],
   "source": [
    "detector = MTCNN()\n",
    "\n",
    "image = cv2.imread('Image/test1.jpg')\n",
    "result = detector.detect_faces(image)"
   ]
  },
  {
   "cell_type": "code",
   "execution_count": 4,
   "metadata": {},
   "outputs": [
    {
     "data": {
      "text/plain": [
       "[{'box': [186, 71, 92, 115],\n",
       "  'confidence': 0.999967098236084,\n",
       "  'keypoints': {'left_eye': (209, 112),\n",
       "   'right_eye': (252, 120),\n",
       "   'nose': (221, 142),\n",
       "   'mouth_left': (203, 152),\n",
       "   'mouth_right': (244, 160)}},\n",
       " {'box': [371, 85, 96, 124],\n",
       "  'confidence': 0.9436848163604736,\n",
       "  'keypoints': {'left_eye': (392, 132),\n",
       "   'right_eye': (439, 139),\n",
       "   'nose': (407, 165),\n",
       "   'mouth_left': (389, 178),\n",
       "   'mouth_right': (435, 184)}}]"
      ]
     },
     "execution_count": 4,
     "metadata": {},
     "output_type": "execute_result"
    }
   ],
   "source": [
    "result"
   ]
  },
  {
   "cell_type": "code",
   "execution_count": 5,
   "metadata": {},
   "outputs": [
    {
     "data": {
      "text/plain": [
       "([186, 71, 92, 115],\n",
       " {'left_eye': (209, 112),\n",
       "  'right_eye': (252, 120),\n",
       "  'nose': (221, 142),\n",
       "  'mouth_left': (203, 152),\n",
       "  'mouth_right': (244, 160)})"
      ]
     },
     "execution_count": 5,
     "metadata": {},
     "output_type": "execute_result"
    }
   ],
   "source": [
    "bounding_box = result[0]['box']\n",
    "keypoints = result[0]['keypoints']\n",
    "bounding_box, keypoints"
   ]
  },
  {
   "cell_type": "code",
   "execution_count": 6,
   "metadata": {},
   "outputs": [
    {
     "data": {
      "text/plain": [
       "array([[[255, 255, 255],\n",
       "        [255, 255, 255],\n",
       "        [255, 255, 255],\n",
       "        ...,\n",
       "        [232, 230, 230],\n",
       "        [232, 230, 230],\n",
       "        [231, 229, 229]],\n",
       "\n",
       "       [[255, 255, 255],\n",
       "        [255, 255, 255],\n",
       "        [255, 255, 255],\n",
       "        ...,\n",
       "        [232, 230, 230],\n",
       "        [232, 230, 230],\n",
       "        [231, 229, 229]],\n",
       "\n",
       "       [[255, 255, 255],\n",
       "        [255, 255, 255],\n",
       "        [255, 255, 255],\n",
       "        ...,\n",
       "        [232, 230, 230],\n",
       "        [232, 230, 230],\n",
       "        [231, 229, 229]],\n",
       "\n",
       "       ...,\n",
       "\n",
       "       [[ 68, 110, 153],\n",
       "        [ 98, 136, 178],\n",
       "        [103, 137, 180],\n",
       "        ...,\n",
       "        [100, 169, 238],\n",
       "        [100, 169, 238],\n",
       "        [ 98, 167, 236]],\n",
       "\n",
       "       [[167, 171, 196],\n",
       "        [157, 161, 186],\n",
       "        [157, 161, 186],\n",
       "        ...,\n",
       "        [101, 170, 239],\n",
       "        [101, 170, 239],\n",
       "        [ 99, 168, 237]],\n",
       "\n",
       "       [[139, 147, 170],\n",
       "        [144, 150, 173],\n",
       "        [139, 144, 169],\n",
       "        ...,\n",
       "        [ 98, 167, 237],\n",
       "        [ 98, 167, 237],\n",
       "        [ 97, 166, 235]]], dtype=uint8)"
      ]
     },
     "execution_count": 6,
     "metadata": {},
     "output_type": "execute_result"
    }
   ],
   "source": [
    "cv2.rectangle(image,\n",
    "              (bounding_box[0], bounding_box[1]),\n",
    "              (bounding_box[0]+bounding_box[2], bounding_box[1] + bounding_box[3]),\n",
    "              (0,155,255),\n",
    "              2)\n",
    "\n",
    "cv2.circle(image,(keypoints['left_eye']), 2, (0,155,255), 2)\n",
    "cv2.circle(image,(keypoints['right_eye']), 2, (0,155,255), 2)\n",
    "cv2.circle(image,(keypoints['nose']), 2, (0,155,255), 2)\n",
    "cv2.circle(image,(keypoints['mouth_left']), 2, (0,155,255), 2)\n",
    "cv2.circle(image,(keypoints['mouth_right']), 2, (0,155,255), 2)"
   ]
  },
  {
   "cell_type": "code",
   "execution_count": 10,
   "metadata": {},
   "outputs": [
    {
     "data": {
      "text/plain": [
       "-1"
      ]
     },
     "execution_count": 10,
     "metadata": {},
     "output_type": "execute_result"
    }
   ],
   "source": [
    "cv2.imwrite('Image/mark1.jpg', image)\n",
    "cv2.namedWindow(\"Image\")\n",
    "cv2.imshow(\"Image\",image)\n",
    "cv2.waitKey(0)"
   ]
  }
 ],
 "metadata": {
  "kernelspec": {
   "display_name": "Python 3",
   "language": "python",
   "name": "python3"
  },
  "language_info": {
   "codemirror_mode": {
    "name": "ipython",
    "version": 3
   },
   "file_extension": ".py",
   "mimetype": "text/x-python",
   "name": "python",
   "nbconvert_exporter": "python",
   "pygments_lexer": "ipython3",
   "version": "3.7.3"
  }
 },
 "nbformat": 4,
 "nbformat_minor": 2
}
